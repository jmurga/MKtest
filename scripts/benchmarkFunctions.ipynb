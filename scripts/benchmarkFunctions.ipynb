{
 "cells": [
  {
   "cell_type": "code",
   "execution_count": 1,
   "metadata": {},
   "outputs": [],
   "source": [
    "%load_ext line_profiler\n",
    "from adapter import mkcalc\n",
    "import numpy as np\n",
    "import pandas as pd\n",
    "from scipy.optimize import fsolve\n",
    "import matplotlib.pyplot as plt\n",
    "import sys\n",
    "import time"
   ]
  },
  {
   "cell_type": "code",
   "execution_count": 2,
   "metadata": {},
   "outputs": [],
   "source": [
    "def analyticalTime(bgs=0.999,al=0.2,alweak=0.2,gam=-83,popsize=500,sample=250,lCoding=501,lNonCoding=10**6,gamWeak=10,gamStrong=500):\n",
    "    adap = mkcalc.AsympMK(B=bgs,gam_neg=gam,theta_f=0.001,alLow=alweak,alTot=al,neut_mid=False,L_mid=lCoding,Lf=lNonCoding,N=popsize,nsim=2500,pref=\"unc\",gL=10,n=sample,gH=500)\n",
    "    \n",
    "    adap.set_theta_f()\n",
    "    theta_f = adap.theta_f\n",
    "    adap.B = 0.999\n",
    "    adap.set_theta_f()\n",
    "    adap.setPpos()\n",
    "    adap.theta_f = theta_f\n",
    "    adap.B = bgs\n",
    "\n",
    "    pos = adap.alx(adap.gL,adap.gH,adap.pposL,adap.pposH)\n",
    "    return(theta_f)"
   ]
  },
  {
   "cell_type": "code",
   "execution_count": 3,
   "metadata": {},
   "outputs": [
    {
     "name": "stdout",
     "output_type": "stream",
     "text": [
      "2.11 s ± 19.6 ms per loop (mean ± std. dev. of 7 runs, 1 loop each)\n"
     ]
    }
   ],
   "source": [
    "%timeit analyticalTime()"
   ]
  },
  {
   "cell_type": "markdown",
   "metadata": {},
   "source": [
    "### Solving original approximation. Using default parameters provided at *al_x.py*: no bgs and 20% of alpha due to weak selection"
   ]
  },
  {
   "cell_type": "code",
   "execution_count": 11,
   "metadata": {},
   "outputs": [
    {
     "data": {
      "text/plain": [
       "Timer unit: 1e-06 s\n",
       "\n",
       "Total time: 6.24656 s\n",
       "File: <ipython-input-9-b64ab378000c>\n",
       "Function: analyticalTime at line 1\n",
       "\n",
       "Line #      Hits         Time  Per Hit   % Time  Line Contents\n",
       "==============================================================\n",
       "     1                                           def analyticalTime(bgs=0.999,al=0.2,alweak=0.2,gam=-83,popsize=500,sample=250,lCoding=501,lNonCoding=10**6,gamWeak=10,gamStrong=500):\n",
       "     2         1         64.0     64.0      0.0      adap = mkcalc.AsympMK(B=bgs,gam_neg=gam,theta_f=0.001,alLow=alweak,alTot=al,neut_mid=False,L_mid=lCoding,Lf=lNonCoding,N=popsize,nsim=2500,pref=\"unc\",gL=10,n=sample,gH=500)\n",
       "     3                                               \n",
       "     4         1        224.0    224.0      0.0      adap.set_theta_f()\n",
       "     5         1          1.0      1.0      0.0      theta_f = adap.theta_f\n",
       "     6         1          1.0      1.0      0.0      adap.B = 0.999\n",
       "     7         1        138.0    138.0      0.0      adap.set_theta_f()\n",
       "     8         1     514715.0 514715.0      8.2      adap.setPpos()\n",
       "     9         1          2.0      2.0      0.0      adap.theta_f = theta_f\n",
       "    10         1          0.0      0.0      0.0      adap.B = bgs\n",
       "    11                                           \n",
       "    12         1    5731419.0 5731419.0     91.8      pos = adap.alx(adap.gL,adap.gH,adap.pposL,adap.pposH)"
      ]
     },
     "metadata": {},
     "output_type": "display_data"
    }
   ],
   "source": [
    "%lprun -f analyticalTime analyticalTime()"
   ]
  },
  {
   "cell_type": "markdown",
   "metadata": {},
   "source": [
    "**In order to get the alpha(x) and the expected values of each category (Dn,Ds,Pn,Ps) we got a mean of 3.47s per iteration when using Ne=500 n=250**. I changed the original values to show which are the variables influencing the computing time. As the expectation is calculated for each category of the frequency spectrum, population and sample size must be the limiting variables in the process. Scale or shape parameters of gamma's distrubutions should not influence in computation time since equation will be solve for any parameter equally."
   ]
  },
  {
   "cell_type": "markdown",
   "metadata": {},
   "source": [
    "#### Changing gamma values"
   ]
  },
  {
   "cell_type": "code",
   "execution_count": 5,
   "metadata": {},
   "outputs": [
    {
     "name": "stdout",
     "output_type": "stream",
     "text": [
      "3.44 s ± 50.4 ms per loop (mean ± std. dev. of 7 runs, 1 loop each)\n"
     ]
    }
   ],
   "source": [
    "%%timeit\n",
    "analyticalTime(bgs=0.999,al=0.2,alweak=0.2,gam=-200,popsize=500,sample=250,lCoding=501,lNonCoding=10**6,gamWeak=10,gamStrong=500)"
   ]
  },
  {
   "cell_type": "code",
   "execution_count": 6,
   "metadata": {},
   "outputs": [
    {
     "name": "stdout",
     "output_type": "stream",
     "text": [
      "3.41 s ± 21.2 ms per loop (mean ± std. dev. of 7 runs, 1 loop each)\n"
     ]
    }
   ],
   "source": [
    "%%timeit\n",
    "analyticalTime(bgs=0.999,al=0.2,alweak=0.2,gam=-83,popsize=500,sample=250,lCoding=501,lNonCoding=10**6,gamWeak=20,gamStrong=500)"
   ]
  },
  {
   "cell_type": "code",
   "execution_count": 7,
   "metadata": {},
   "outputs": [
    {
     "name": "stdout",
     "output_type": "stream",
     "text": [
      "3.57 s ± 49.7 ms per loop (mean ± std. dev. of 7 runs, 1 loop each)\n"
     ]
    }
   ],
   "source": [
    "%%timeit\n",
    "analyticalTime(bgs=0.999,al=0.2,alweak=0.2,gam=-83,popsize=500,sample=250,lCoding=501,lNonCoding=10**6,gamWeak=10,gamStrong=400)"
   ]
  },
  {
   "cell_type": "code",
   "execution_count": 8,
   "metadata": {},
   "outputs": [
    {
     "name": "stdout",
     "output_type": "stream",
     "text": [
      "3.53 s ± 74.3 ms per loop (mean ± std. dev. of 7 runs, 1 loop each)\n"
     ]
    }
   ],
   "source": [
    "%%timeit\n",
    "analyticalTime(bgs=0.999,al=0.2,alweak=0.2,gam=-200,popsize=500,sample=250,lCoding=501,lNonCoding=10**6,gamWeak=40,gamStrong=600)"
   ]
  },
  {
   "cell_type": "markdown",
   "metadata": {},
   "source": [
    "#### Reducing Ne in a half"
   ]
  },
  {
   "cell_type": "code",
   "execution_count": 25,
   "metadata": {},
   "outputs": [
    {
     "name": "stdout",
     "output_type": "stream",
     "text": [
      "1.95 s ± 35.8 ms per loop (mean ± std. dev. of 7 runs, 1 loop each)\n"
     ]
    }
   ],
   "source": [
    "%%timeit\n",
    "analyticalTime(bgs=0.999,al=0.2,alweak=0.2,gam=-83,popsize=250,sample=250,lCoding=501,lNonCoding=10**6)"
   ]
  },
  {
   "cell_type": "markdown",
   "metadata": {},
   "source": [
    "#### Reducing n in a half"
   ]
  },
  {
   "cell_type": "code",
   "execution_count": 16,
   "metadata": {},
   "outputs": [
    {
     "name": "stdout",
     "output_type": "stream",
     "text": [
      "3.21 s ± 92.6 ms per loop (mean ± std. dev. of 7 runs, 1 loop each)\n"
     ]
    }
   ],
   "source": [
    "%%timeit\n",
    "analyticalTime(bgs=0.999,al=0.2,alweak=0.2,gam=-83,popsize=500,sample=175,lCoding=501,lNonCoding=10**6)"
   ]
  },
  {
   "cell_type": "markdown",
   "metadata": {},
   "source": [
    "#### Duplicating Ne and n values"
   ]
  },
  {
   "cell_type": "code",
   "execution_count": 17,
   "metadata": {},
   "outputs": [
    {
     "name": "stdout",
     "output_type": "stream",
     "text": [
      "8.21 s ± 52 ms per loop (mean ± std. dev. of 7 runs, 1 loop each)\n"
     ]
    }
   ],
   "source": [
    "%%timeit\n",
    "analyticalTime(bgs=0.999,al=0.2,alweak=0.2,gam=-83,popsize=1000,sample=500,lCoding=501,lNonCoding=10**6)"
   ]
  },
  {
   "cell_type": "markdown",
   "metadata": {},
   "source": [
    "#### Reducing length in a half"
   ]
  },
  {
   "cell_type": "code",
   "execution_count": 22,
   "metadata": {},
   "outputs": [
    {
     "name": "stdout",
     "output_type": "stream",
     "text": [
      "3.34 s ± 46.6 ms per loop (mean ± std. dev. of 7 runs, 1 loop each)\n"
     ]
    }
   ],
   "source": [
    "%%timeit\n",
    "analyticalTime(bgs=0.999,al=0.2,alweak=0.2,gam=-83,popsize=500,sample=250,lCoding=250,lNonCoding=5*10**5)"
   ]
  },
  {
   "cell_type": "markdown",
   "metadata": {},
   "source": [
    "#### Duplicating length values"
   ]
  },
  {
   "cell_type": "code",
   "execution_count": 24,
   "metadata": {},
   "outputs": [
    {
     "name": "stdout",
     "output_type": "stream",
     "text": [
      "3.35 s ± 72.1 ms per loop (mean ± std. dev. of 7 runs, 1 loop each)\n"
     ]
    }
   ],
   "source": [
    "%%timeit\n",
    "analyticalTime(bgs=0.999,al=0.2,alweak=0.2,gam=-83,popsize=500,sample=250,lCoding=1001,lNonCoding=2*10**6)"
   ]
  },
  {
   "cell_type": "markdown",
   "metadata": {},
   "source": [
    "#### Checking the process individually"
   ]
  },
  {
   "cell_type": "code",
   "execution_count": 10,
   "metadata": {},
   "outputs": [
    {
     "data": {
      "text/plain": [
       "Timer unit: 1e-06 s\n",
       "\n",
       "Total time: 11.2382 s\n",
       "File: <ipython-input-2-25f7f86dd27a>\n",
       "Function: analyticalTime at line 1\n",
       "\n",
       "Line #      Hits         Time  Per Hit   % Time  Line Contents\n",
       "==============================================================\n",
       "     1                                           def analyticalTime(bgs=0.999,al=0.2,alweak=0.2,gam=-83,popsize=500,sample=250,lCoding=501,lNonCoding=10**6,gamWeak=10,gamStrong=500):\n",
       "     2         1          2.0      2.0      0.0      B  = float(0.999)\n",
       "     3         1          1.0      1.0      0.0      al = float(0.2)\n",
       "     4         1          1.0      1.0      0.0      weak=0.2\n",
       "     5         1         58.0     58.0      0.0      adap = mkcalc.AsympMK(B=B,gam_neg=gam,theta_f=0.001,alLow=alweak,alTot=al,neut_mid=False,L_mid=lCoding,Lf=lNonCoding,N=popsize,nsim=2500,pref=\"unc\",gL=10,n=sample,gH=500)\n",
       "     6         1        217.0    217.0      0.0      adap.set_theta_f()\n",
       "     7         1          1.0      1.0      0.0      theta_f = adap.theta_f\n",
       "     8         1          1.0      1.0      0.0      theta_f = adap.theta_f\n",
       "     9         1          1.0      1.0      0.0      adap.B = 0.999\n",
       "    10         1        142.0    142.0      0.0      adap.set_theta_f()\n",
       "    11         1     527629.0 527629.0      4.7      adap.setPpos()\n",
       "    12         1          2.0      2.0      0.0      adap.theta_f = theta_f\n",
       "    13         1          1.0      1.0      0.0      adap.B = B\n",
       "    14                                           \n",
       "    15         1    5850159.0 5850159.0     52.1      pos = adap.alx(adap.gL,adap.gH,adap.pposL,adap.pposH)\n",
       "    16         1    4859975.0 4859975.0     43.2      nopos = adap.alx_nopos(adap.gL,adap.gH,adap.pposL,adap.pposH)"
      ]
     },
     "metadata": {},
     "output_type": "display_data"
    }
   ],
   "source": [
    "%lprun -f analyticalTime analyticalTime()"
   ]
  },
  {
   "cell_type": "markdown",
   "metadata": {},
   "source": [
    "setPpos and alpha calculations are the most problematic functions. Both need almost a second to run with Ne=500 and n=250. I compiled the functions manually with originals values to run step-by-step in order to check where are the bottlenecks"
   ]
  },
  {
   "cell_type": "markdown",
   "metadata": {},
   "source": [
    "### Exploring computation times on *set_theta_f* and *alx* functions"
   ]
  },
  {
   "cell_type": "code",
   "execution_count": 1,
   "metadata": {},
   "outputs": [],
   "source": [
    "%load_ext line_profiler\n",
    "from adapter import mkcalc\n",
    "import numpy as np\n",
    "import pandas as pd\n",
    "from scipy.optimize import fsolve\n",
    "import matplotlib.pyplot as plt\n",
    "import sys\n",
    "import time\n",
    "import inspect"
   ]
  },
  {
   "cell_type": "code",
   "execution_count": 2,
   "metadata": {},
   "outputs": [
    {
     "name": "stderr",
     "output_type": "stream",
     "text": [
      "/home/jmurga/anaconda3/envs/mktest/lib/python3.8/site-packages/julia/core.py:685: FutureWarning: Accessing `Julia().<name>` to obtain Julia objects is deprecated.  Use `from julia import Main; Main.<name>` or `jl = Julia(); jl.eval('<name>')`.\n",
      "  warnings.warn(\n"
     ]
    }
   ],
   "source": [
    "import sys\n",
    "sys.path.insert(0, '/home/jmurga/mktest/scripts/')\n",
    "from mkcalcDef import *"
   ]
  },
  {
   "cell_type": "code",
   "execution_count": 3,
   "metadata": {},
   "outputs": [],
   "source": [
    "adap = mkcalc.AsympMK(B=0.999,gam_neg=-83,theta_f=0.001,alLow=0.2,alTot=0.2,neut_mid=False,L_mid=501,Lf=10**6,N=500,nsim=2500,pref=\"unc\",gL=10,n=250,gH=500)"
   ]
  },
  {
   "cell_type": "code",
   "execution_count": 3,
   "metadata": {},
   "outputs": [
    {
     "data": {
      "text/plain": [
       "Timer unit: 1e-06 s\n",
       "\n",
       "Total time: 0.000262 s\n",
       "File: /home/jmurga/mktest_dev/scripts/mkcalcDef.py\n",
       "Function: set_theta_f_manual at line 52\n",
       "\n",
       "Line #      Hits         Time  Per Hit   % Time  Line Contents\n",
       "==============================================================\n",
       "    52                                           def set_theta_f_manual():\n",
       "    53         1        259.0    259.0     98.9  \ttheta_f  = fsolve(lambda theta: Br_manual(Lf,theta)-B,0.00001)\n",
       "    54         1          3.0      3.0      1.1  \ttheta_f = theta_f[0]"
      ]
     },
     "metadata": {},
     "output_type": "display_data"
    }
   ],
   "source": [
    "%lprun -f set_theta_f_manual set_theta_f_manual()"
   ]
  },
  {
   "cell_type": "markdown",
   "metadata": {},
   "source": [
    "**I think *set_theta_f* could not be optimize. It's just solving an equation with *x* parameters, in that sense only depends on *fsolve* computation time.**"
   ]
  },
  {
   "cell_type": "code",
   "execution_count": 8,
   "metadata": {},
   "outputs": [
    {
     "name": "stdout",
     "output_type": "stream",
     "text": [
      "def set_theta_f():\n",
      "\ttheta_f  = fsolve(lambda theta: Br(Lf,theta)-B,0.00001)\n",
      "\ttheta_f = theta_f[0]\n",
      "\n"
     ]
    }
   ],
   "source": [
    "print(inspect.getsource(set_theta_f_manual))"
   ]
  },
  {
   "cell_type": "code",
   "execution_count": 9,
   "metadata": {},
   "outputs": [
    {
     "name": "stdout",
     "output_type": "stream",
     "text": [
      "def Br(Lmax,theta):\n",
      "\tt = -1.*gam_neg/(NN+0.)\n",
      "\tu = theta/(2.*NN)\n",
      "\tr = rho/(2.*NN)\n",
      "\treturn np.exp(-4*u*Lmax/(2*Lmax*r+t))\n",
      "\n"
     ]
    }
   ],
   "source": [
    "print(inspect.getsource(Br_manual))"
   ]
  },
  {
   "cell_type": "code",
   "execution_count": 6,
   "metadata": {},
   "outputs": [
    {
     "name": "stdout",
     "output_type": "stream",
     "text": [
      "def alx_manual(gammaL,gammaH,pposL,pposH):\n",
      "\tret = []\n",
      "\n",
      "\t#Fixation\n",
      "\tfN = B*fixNeut_manual()\n",
      "\tfNeg = B*fixNegB_manual(0.5*pposH+0.5*pposL)\n",
      "\tfPosL = fixPosSim_manual(gammaL,0.5*pposL)\n",
      "\tfPosH = fixPosSim_manual(gammaH,0.5*pposH)\n",
      "\n",
      "\t#Pol\n",
      "\tneut = cumuSfs(DiscSFSNeutDown_manual())\n",
      "\tselH = cumuSfs(DiscSFSSelPosDown_manual(gammaH,pposH))\n",
      "\tselL = cumuSfs(DiscSFSSelPosDown_manual(gammaL,pposL))\n",
      "\tselN = cumuSfs(DiscSFSSelNegDown_manual(pposH+pposL))\n",
      "\t\n",
      "\tsel = []\n",
      "\tfor i in range(0,len(selH)):\n",
      "\t\tsel.append((selH[i]+selL[i])+selN[i])\n",
      "\tfor i in range(0,nn-1):\n",
      "\t\tret.append(float(1. - (fN/(fPosL + fPosH+  fNeg+0.))* sel[i]/neut[i]))\n",
      "\treturn (ret,sel,neut,selH,selL,selN,fN,fNeg,fPosL,fPosH)\n",
      "\n"
     ]
    }
   ],
   "source": [
    "print(inspect.getsource(alx_manual))"
   ]
  },
  {
   "cell_type": "code",
   "execution_count": 3,
   "metadata": {},
   "outputs": [
    {
     "data": {
      "text/plain": [
       "Timer unit: 1e-06 s\n",
       "\n",
       "Total time: 5.92915 s\n",
       "File: /home/jmurga/mktest_dev/scripts/mkcalcDef.py\n",
       "Function: alx_manual at line 163\n",
       "\n",
       "Line #      Hits         Time  Per Hit   % Time  Line Contents\n",
       "==============================================================\n",
       "   163                                           def alx_manual(gammaL,gammaH,pposL,pposH):\n",
       "   164         1          1.0      1.0      0.0  \tret = []\n",
       "   165                                           \n",
       "   166                                           \t#Fixation\n",
       "   167         1          3.0      3.0      0.0  \tfN = B*fixNeut_manual()\n",
       "   168         1       7290.0   7290.0      0.1  \tfNeg = B*fixNegB_manual(0.5*pposH+0.5*pposL)\n",
       "   169         1        417.0    417.0      0.0  \tfPosL = fixPosSim_manual(gammaL,0.5*pposL)\n",
       "   170         1      10740.0  10740.0      0.2  \tfPosH = fixPosSim_manual(gammaH,0.5*pposH)\n",
       "   171                                           \n",
       "   172                                           \t#Pol\n",
       "   173         1     275816.0 275816.0      4.7  \tneut = cumuSfs_manual(DiscSFSNeutDown_manual())\n",
       "   174         1     513263.0 513263.0      8.7  \tselH = cumuSfs_manual(DiscSFSSelPosDown_manual(gammaH,pposH))\n",
       "   175         1     483510.0 483510.0      8.2  \tselL = cumuSfs_manual(DiscSFSSelPosDown_manual(gammaL,pposL))\n",
       "   176         1    4542693.0 4542693.0     76.6  \tselN = cumuSfs_manual(DiscSFSSelNegDown_manual(pposH+pposL))\n",
       "   177                                           \t\n",
       "   178         1          3.0      3.0      0.0  \tsel = []\n",
       "   179       501        717.0      1.4      0.0  \tfor i in range(0,len(selH)):\n",
       "   180       500      26278.0     52.6      0.4  \t\tsel.append((selH[i]+selL[i])+selN[i])\n",
       "   181       500        750.0      1.5      0.0  \tfor i in range(0,nn-1):\n",
       "   182       499      67668.0    135.6      1.1  \t\tret.append(float(1. - (fN/(fPosL + fPosH+  fNeg+0.))* sel[i]/neut[i]))\n",
       "   183         1          0.0      0.0      0.0  \treturn (ret,sel,neut,selH,selL,selN,fN,fNeg,fPosL,fPosH)"
      ]
     },
     "metadata": {},
     "output_type": "display_data"
    }
   ],
   "source": [
    "%lprun -f alx_manual alx_manual(gL,gH,pposL,pposH)"
   ]
  },
  {
   "cell_type": "code",
   "execution_count": 4,
   "metadata": {},
   "outputs": [
    {
     "name": "stdout",
     "output_type": "stream",
     "text": [
      "140 ns ± 2.96 ns per loop (mean ± std. dev. of 7 runs, 10000000 loops each)\n",
      "973 µs ± 24.4 µs per loop (mean ± std. dev. of 7 runs, 1000 loops each)\n",
      "79.9 µs ± 1.24 µs per loop (mean ± std. dev. of 7 runs, 10000 loops each)\n",
      "1.65 ms ± 19.4 µs per loop (mean ± std. dev. of 7 runs, 1000 loops each)\n",
      "244 ms ± 3.45 ms per loop (mean ± std. dev. of 7 runs, 10 loops each)\n",
      "279 ms ± 4.06 ms per loop (mean ± std. dev. of 7 runs, 1 loop each)\n",
      "279 ms ± 3.3 ms per loop (mean ± std. dev. of 7 runs, 1 loop each)\n",
      "1.21 s ± 30.2 ms per loop (mean ± std. dev. of 7 runs, 1 loop each)\n"
     ]
    }
   ],
   "source": [
    "%timeit fN2 = B*fixNeut_manual()\n",
    "%timeit fNeg2 = B*fixNegB_manual(0.5*pposH+0.5*pposL)\n",
    "%timeit fPosL2 = fixPosSim_manual(gL,0.5*pposL)\n",
    "%timeit fPosH2 = fixPosSim_manual(gH,0.5*pposH)\n",
    "%timeit neut2 = cumuSfs_manual(DiscSFSNeutDown_manual())\n",
    "%timeit selH2 = cumuSfs_manual(DiscSFSSelPosDown_manual(gH,pposH))\n",
    "%timeit selL2 = cumuSfs_manual(DiscSFSSelPosDown_manual(gL,pposL))\n",
    "%timeit selN2 = cumuSfs_manual(DiscSFSSelNegDown_manual(pposH+pposL))"
   ]
  },
  {
   "cell_type": "code",
   "execution_count": 11,
   "metadata": {},
   "outputs": [
    {
     "name": "stdout",
     "output_type": "stream",
     "text": [
      "def DiscSFSSelNegDown_manual(ppos):\n",
      "\t\treturn B*(theta_mid_neutral)*0.745*(np.dot(binomOp(),DiscSFSSelNeg(ppos)))[1:-1]\n",
      "\n"
     ]
    }
   ],
   "source": [
    "print(inspect.getsource(DiscSFSSelNegDown_manual))"
   ]
  },
  {
   "cell_type": "code",
   "execution_count": 13,
   "metadata": {},
   "outputs": [
    {
     "name": "stdout",
     "output_type": "stream",
     "text": [
      "def DiscSFSSelNeg_manual(ppos):\n",
      "\tNN2 = int(round(NN*B))\n",
      "\tdFunc = np.vectorize(FullNeg)\n",
      "\treturn np.multiply(1./(NN2+0.),dFunc(ppos,[i/(NN2+0.) for i in range(0,NN2+1)]))\n",
      "\n"
     ]
    }
   ],
   "source": [
    "print(inspect.getsource(DiscSFSSelNeg_manual))"
   ]
  },
  {
   "cell_type": "code",
   "execution_count": 18,
   "metadata": {},
   "outputs": [
    {
     "name": "stdout",
     "output_type": "stream",
     "text": [
      "def FullNeg_manual( ppos, x):\n",
      "\tbeta = be/(1.*B)\n",
      "\tif x > 0 and x < 1.:\n",
      "\t\treturn (1.-ppos)*(2.**-al)*(beta**al)*(-mpmath.zeta(al,x+beta/2.) + mpmath.zeta(al,(2+beta)/2.))/((-1.+x)*x)\n",
      "\n",
      "\treturn 0.\n",
      "\n"
     ]
    }
   ],
   "source": [
    "print(inspect.getsource(FullNeg_manual))"
   ]
  },
  {
   "cell_type": "markdown",
   "metadata": {},
   "source": [
    "Although it is vectorice each computation solving gamma on negative distribution is quite slow"
   ]
  },
  {
   "cell_type": "code",
   "execution_count": 3,
   "metadata": {},
   "outputs": [
    {
     "name": "stdout",
     "output_type": "stream",
     "text": [
      "1.17 s ± 6.32 ms per loop (mean ± std. dev. of 7 runs, 1 loop each)\n"
     ]
    }
   ],
   "source": [
    "%timeit DiscSFSSelNegDown_manual(pposH+pposL)"
   ]
  },
  {
   "cell_type": "markdown",
   "metadata": {},
   "source": [
    "Julia implemenation"
   ]
  },
  {
   "cell_type": "code",
   "execution_count": 6,
   "metadata": {},
   "outputs": [
    {
     "name": "stdout",
     "output_type": "stream",
     "text": [
      "240 ms ± 5.56 ms per loop (mean ± std. dev. of 7 runs, 1 loop each)\n"
     ]
    }
   ],
   "source": [
    "%timeit DiscSFSSelNegDown_manual2(pposH+pposL)"
   ]
  },
  {
   "cell_type": "code",
   "execution_count": 16,
   "metadata": {},
   "outputs": [
    {
     "data": {
      "text/plain": [
       "array([0.        , 0.001001  , 0.002002  , 0.003003  , 0.004004  ,\n",
       "       0.00500501, 0.00600601, 0.00700701, 0.00800801, 0.00900901])"
      ]
     },
     "execution_count": 16,
     "metadata": {},
     "output_type": "execute_result"
    }
   ],
   "source": [
    "np.array([i/(NN2+0.) for i in range(0,NN2+1)])[:10]"
   ]
  },
  {
   "cell_type": "code",
   "execution_count": 5,
   "metadata": {},
   "outputs": [],
   "source": [
    "NN2 = int(round(NN*B))\n",
    "dFuncVector = np.vectorize(FullNeg_manual)"
   ]
  },
  {
   "cell_type": "code",
   "execution_count": 6,
   "metadata": {},
   "outputs": [
    {
     "name": "stdout",
     "output_type": "stream",
     "text": [
      "1.02 s ± 25.9 ms per loop (mean ± std. dev. of 7 runs, 1 loop each)\n"
     ]
    }
   ],
   "source": [
    "%timeit y = dFuncVector(pposH+pposL,[i/(NN2+0.) for i in range(0,NN2+1)])"
   ]
  },
  {
   "cell_type": "markdown",
   "metadata": {},
   "source": [
    "Checking one iteration time"
   ]
  },
  {
   "cell_type": "code",
   "execution_count": 20,
   "metadata": {},
   "outputs": [],
   "source": [
    "x = [i/(NN2+0.) for i in range(0,NN2+1)]"
   ]
  },
  {
   "cell_type": "code",
   "execution_count": 22,
   "metadata": {},
   "outputs": [
    {
     "name": "stdout",
     "output_type": "stream",
     "text": [
      "1.23 ms ± 44.8 µs per loop (mean ± std. dev. of 7 runs, 1000 loops each)\n"
     ]
    }
   ],
   "source": [
    "%timeit  b = FullNeg_manual(pposH+pposL,x[1])"
   ]
  },
  {
   "cell_type": "code",
   "execution_count": null,
   "metadata": {},
   "outputs": [],
   "source": []
  },
  {
   "cell_type": "markdown",
   "metadata": {},
   "source": [
    "### Numba compilation with allocated variables\n",
    "Although python compilers (cython, numba...) could be a good solutions to improve performance, most of them will not be easy to apply on the code. In addition they only usually accept pure python code, so most parts on the code cannot be compiled. I perform a little approach with Numba which can deal with numpy arrays. I allocated variables and changed list comprehension to boost performance. But we have the same problem, solving the equations with scipy/mpmath is quite slow."
   ]
  },
  {
   "cell_type": "code",
   "execution_count": 4,
   "metadata": {},
   "outputs": [
    {
     "name": "stdout",
     "output_type": "stream",
     "text": [
      "131 ns ± 1.32 ns per loop (mean ± std. dev. of 7 runs, 10000000 loops each)\n",
      "80.5 ns ± 0.278 ns per loop (mean ± std. dev. of 7 runs, 10000000 loops each)\n"
     ]
    }
   ],
   "source": [
    "fixNeut_numba()\n",
    "%timeit B*fixNeut_manual()\n",
    "%timeit B*fixNeut_numba()"
   ]
  },
  {
   "cell_type": "code",
   "execution_count": 5,
   "metadata": {},
   "outputs": [
    {
     "name": "stdout",
     "output_type": "stream",
     "text": [
      "879 µs ± 6.3 µs per loop (mean ± std. dev. of 7 runs, 1000 loops each)\n",
      "884 µs ± 12.9 µs per loop (mean ± std. dev. of 7 runs, 1000 loops each)\n"
     ]
    }
   ],
   "source": [
    "fNeg          = B*fixNegB_numba(0.5*pposH+0.5*pposL)\n",
    "%timeit fNeg  = B*fixNegB_manual(0.5*pposH+0.5*pposL)\n",
    "%timeit fNeg  = B*fixNegB_numba(0.5*pposH+0.5*pposL)"
   ]
  },
  {
   "cell_type": "code",
   "execution_count": 3,
   "metadata": {},
   "outputs": [
    {
     "name": "stdout",
     "output_type": "stream",
     "text": [
      "73.6 µs ± 293 ns per loop (mean ± std. dev. of 7 runs, 10000 loops each)\n",
      "31.9 µs ± 146 ns per loop (mean ± std. dev. of 7 runs, 10000 loops each)\n"
     ]
    }
   ],
   "source": [
    "fPosH= fixPosSim_numba(gL,pposL)\n",
    "%timeit fPosH = fixPosSim_manual(gL,0.5*pposL)\n",
    "%timeit fPosH = fixPosSim_numba(gL,0.5*pposL)"
   ]
  }
 ],
 "metadata": {
  "kernelspec": {
   "display_name": "Python 3",
   "language": "python",
   "name": "python3"
  },
  "language_info": {
   "codemirror_mode": {
    "name": "ipython",
    "version": 3
   },
   "file_extension": ".py",
   "mimetype": "text/x-python",
   "name": "python",
   "nbconvert_exporter": "python",
   "pygments_lexer": "ipython3",
   "version": "3.8.1"
  }
 },
 "nbformat": 4,
 "nbformat_minor": 4
}
