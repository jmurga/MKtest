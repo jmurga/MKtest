{
 "cells": [
  {
   "cell_type": "code",
   "execution_count": 1,
   "metadata": {},
   "outputs": [],
   "source": [
    "%load_ext line_profiler\n",
    "from adapter import mkcalc\n",
    "import numpy as np\n",
    "import pandas as pd\n",
    "from scipy.optimize import fsolve\n",
    "import matplotlib.pyplot as plt\n",
    "import sys\n",
    "import time"
   ]
  },
  {
   "cell_type": "markdown",
   "metadata": {},
   "source": [
    "### Solving original approximation. Using default parameters provided at *al_x.py*: no bgs and 20% of alpha due to weak selection"
   ]
  },
  {
   "cell_type": "code",
   "execution_count": 2,
   "metadata": {},
   "outputs": [],
   "source": [
    "def analyticalTime(bgs=0.999,al=0.2,alweak=0.2,gam=-83,popsize=500,sample=250,lCoding=501,lNonCoding=10**6,gamWeak=10,gamStrong=500):\n",
    "    adap = mkcalc.AsympMK(B=bgs,gam_neg=gam,theta_f=0.001,alLow=alweak,alTot=al,neut_mid=False,L_mid=lCoding,Lf=lNonCoding,N=popsize,nsim=2500,pref=\"unc\",gL=10,n=sample,gH=500)\n",
    "    \n",
    "    adap.set_theta_f()\n",
    "    theta_f = adap.theta_f\n",
    "    adap.B = 0.999\n",
    "    adap.set_theta_f()\n",
    "    adap.setPpos()\n",
    "    adap.theta_f = theta_f\n",
    "    adap.B = bgs\n",
    "\n",
    "    pos = adap.alx(adap.gL,adap.gH,adap.pposL,adap.pposH)\n",
    "    nopos = adap.alx_nopos(adap.gL,adap.gH,adap.pposL,adap.pposH)"
   ]
  },
  {
   "cell_type": "code",
   "execution_count": 3,
   "metadata": {},
   "outputs": [
    {
     "name": "stdout",
     "output_type": "stream",
     "text": [
      "3.58 s ± 69.7 ms per loop (mean ± std. dev. of 7 runs, 1 loop each)\n"
     ]
    }
   ],
   "source": [
    "%timeit analyticalTime()"
   ]
  },
  {
   "cell_type": "code",
   "execution_count": 4,
   "metadata": {},
   "outputs": [
    {
     "data": {
      "text/plain": [
       "Timer unit: 1e-06 s\n",
       "\n",
       "Total time: 11.3068 s\n",
       "File: <ipython-input-2-dbf5972f16d0>\n",
       "Function: analyticalTime at line 1\n",
       "\n",
       "Line #      Hits         Time  Per Hit   % Time  Line Contents\n",
       "==============================================================\n",
       "     1                                           def analyticalTime(bgs=0.999,al=0.2,alweak=0.2,gam=-83,popsize=500,sample=250,lCoding=501,lNonCoding=10**6,gamWeak=10,gamStrong=500):\n",
       "     2         1         95.0     95.0      0.0      adap = mkcalc.AsympMK(B=bgs,gam_neg=gam,theta_f=0.001,alLow=alweak,alTot=al,neut_mid=False,L_mid=lCoding,Lf=lNonCoding,N=popsize,nsim=2500,pref=\"unc\",gL=10,n=sample,gH=500)\n",
       "     3                                               \n",
       "     4         1        409.0    409.0      0.0      adap.set_theta_f()\n",
       "     5         1          3.0      3.0      0.0      theta_f = adap.theta_f\n",
       "     6         1          2.0      2.0      0.0      adap.B = 0.999\n",
       "     7         1        350.0    350.0      0.0      adap.set_theta_f()\n",
       "     8         1     601476.0 601476.0      5.3      adap.setPpos()\n",
       "     9         1          3.0      3.0      0.0      adap.theta_f = theta_f\n",
       "    10         1          2.0      2.0      0.0      adap.B = bgs\n",
       "    11                                           \n",
       "    12         1    5861435.0 5861435.0     51.8      pos = adap.alx(adap.gL,adap.gH,adap.pposL,adap.pposH)\n",
       "    13         1    4843025.0 4843025.0     42.8      nopos = adap.alx_nopos(adap.gL,adap.gH,adap.pposL,adap.pposH)"
      ]
     },
     "metadata": {},
     "output_type": "display_data"
    }
   ],
   "source": [
    "%lprun -f analyticalTime analyticalTime()"
   ]
  },
  {
   "cell_type": "markdown",
   "metadata": {},
   "source": [
    "**In order to get the alpha(x) and the expected values of each category (Dn, Ds, Pn, Ps) we got a mean of 3.58s per iteration when using Ne=500 n=250**. ~90% of computation time is dediacted to estimate alx. In addition, I changed the original values to show which are that most influence on computing time. Since the expectation is calculated for each value of the frequency spectrum, population and sample size must be the limiting variables in the process. Changes on gamma's values, coding length and non-coding length seems not to influence in computation time drastically."
   ]
  },
  {
   "cell_type": "markdown",
   "metadata": {},
   "source": [
    "#### Changing gamma values"
   ]
  },
  {
   "cell_type": "code",
   "execution_count": 12,
   "metadata": {},
   "outputs": [
    {
     "name": "stdout",
     "output_type": "stream",
     "text": [
      "3.56 s ± 39 ms per loop (mean ± std. dev. of 7 runs, 1 loop each)\n",
      "3.55 s ± 6.94 ms per loop (mean ± std. dev. of 7 runs, 1 loop each)\n",
      "3.65 s ± 43.7 ms per loop (mean ± std. dev. of 7 runs, 1 loop each)\n",
      "3.62 s ± 12.6 ms per loop (mean ± std. dev. of 7 runs, 1 loop each)\n"
     ]
    }
   ],
   "source": [
    "%timeit analyticalTime(bgs=0.999,al=0.2,alweak=0.2,gam=-200,popsize=500,sample=250,lCoding=501,lNonCoding=10**6,gamWeak=10,gamStrong=500)\n",
    "%timeit analyticalTime(bgs=0.999,al=0.2,alweak=0.2,gam=-83,popsize=500,sample=250,lCoding=501,lNonCoding=10**6,gamWeak=20,gamStrong=500)\n",
    "%timeit analyticalTime(bgs=0.999,al=0.2,alweak=0.2,gam=-83,popsize=500,sample=250,lCoding=501,lNonCoding=10**6,gamWeak=10,gamStrong=400)\n",
    "%timeit analyticalTime(bgs=0.999,al=0.2,alweak=0.2,gam=-200,popsize=500,sample=250,lCoding=501,lNonCoding=10**6,gamWeak=40,gamStrong=600)"
   ]
  },
  {
   "cell_type": "markdown",
   "metadata": {},
   "source": [
    "#### Reducing Ne in a half"
   ]
  },
  {
   "cell_type": "code",
   "execution_count": 13,
   "metadata": {},
   "outputs": [
    {
     "name": "stdout",
     "output_type": "stream",
     "text": [
      "2.07 s ± 46.3 ms per loop (mean ± std. dev. of 7 runs, 1 loop each)\n"
     ]
    }
   ],
   "source": [
    "%timeit analyticalTime(bgs=0.999,al=0.2,alweak=0.2,gam=-83,popsize=250,sample=250,lCoding=501,lNonCoding=10**6)"
   ]
  },
  {
   "cell_type": "markdown",
   "metadata": {},
   "source": [
    "#### Reducing n in a half"
   ]
  },
  {
   "cell_type": "code",
   "execution_count": 14,
   "metadata": {},
   "outputs": [
    {
     "name": "stdout",
     "output_type": "stream",
     "text": [
      "3.19 s ± 80.8 ms per loop (mean ± std. dev. of 7 runs, 1 loop each)\n"
     ]
    }
   ],
   "source": [
    "%timeit analyticalTime(bgs=0.999,al=0.2,alweak=0.2,gam=-83,popsize=500,sample=175,lCoding=501,lNonCoding=10**6)"
   ]
  },
  {
   "cell_type": "markdown",
   "metadata": {},
   "source": [
    "#### Duplicating Ne and n values"
   ]
  },
  {
   "cell_type": "code",
   "execution_count": 15,
   "metadata": {},
   "outputs": [
    {
     "name": "stdout",
     "output_type": "stream",
     "text": [
      "8.53 s ± 126 ms per loop (mean ± std. dev. of 7 runs, 1 loop each)\n"
     ]
    }
   ],
   "source": [
    "%timeit analyticalTime(bgs=0.999,al=0.2,alweak=0.2,gam=-83,popsize=1000,sample=500,lCoding=501,lNonCoding=10**6)"
   ]
  },
  {
   "cell_type": "markdown",
   "metadata": {},
   "source": [
    "#### Reducing length in a half"
   ]
  },
  {
   "cell_type": "code",
   "execution_count": 16,
   "metadata": {},
   "outputs": [
    {
     "name": "stdout",
     "output_type": "stream",
     "text": [
      "3.47 s ± 45 ms per loop (mean ± std. dev. of 7 runs, 1 loop each)\n"
     ]
    }
   ],
   "source": [
    "%timeit analyticalTime(bgs=0.999,al=0.2,alweak=0.2,gam=-83,popsize=500,sample=250,lCoding=250,lNonCoding=5*10**5)"
   ]
  },
  {
   "cell_type": "markdown",
   "metadata": {},
   "source": [
    "#### Duplicating length values"
   ]
  },
  {
   "cell_type": "code",
   "execution_count": 17,
   "metadata": {},
   "outputs": [
    {
     "name": "stdout",
     "output_type": "stream",
     "text": [
      "3.46 s ± 36.6 ms per loop (mean ± std. dev. of 7 runs, 1 loop each)\n"
     ]
    }
   ],
   "source": [
    "%timeit analyticalTime(bgs=0.999,al=0.2,alweak=0.2,gam=-83,popsize=500,sample=250,lCoding=1001,lNonCoding=2*10**6)"
   ]
  },
  {
   "cell_type": "markdown",
   "metadata": {},
   "source": [
    "**setPpos and alpha calculations are the most problematic functions. Both need almost a second to run with Ne=500 and n=250. I compiled the functions manually with originals values to run step-by-step in order to check where are the bottlenecks*"
   ]
  },
  {
   "cell_type": "markdown",
   "metadata": {},
   "source": [
    "### Exploring computation times on *set_theta_f* and *alx* functions manually. mkcalcManual contains the functions loaded with the values processed before execute *pos=alx(...)*"
   ]
  },
  {
   "cell_type": "code",
   "execution_count": 20,
   "metadata": {},
   "outputs": [
    {
     "name": "stdout",
     "output_type": "stream",
     "text": [
      "The line_profiler extension is already loaded. To reload it, use:\n",
      "  %reload_ext line_profiler\n"
     ]
    }
   ],
   "source": [
    "%load_ext line_profiler\n",
    "import numpy as np\n",
    "import pandas as pd\n",
    "from scipy.optimize import fsolve\n",
    "import sys\n",
    "import time\n",
    "import inspect"
   ]
  },
  {
   "cell_type": "code",
   "execution_count": 22,
   "metadata": {},
   "outputs": [],
   "source": [
    "import sys\n",
    "sys.path.insert(0, '/home/jmurga/mktest/scripts/')\n",
    "from mkcalcManual import *"
   ]
  },
  {
   "cell_type": "code",
   "execution_count": 23,
   "metadata": {},
   "outputs": [
    {
     "data": {
      "text/plain": [
       "Timer unit: 1e-06 s\n",
       "\n",
       "Total time: 0.00029 s\n",
       "File: /home/jmurga/mktest/scripts/mkcalcManual.py\n",
       "Function: set_theta_f_manual at line 52\n",
       "\n",
       "Line #      Hits         Time  Per Hit   % Time  Line Contents\n",
       "==============================================================\n",
       "    52                                           def set_theta_f_manual():\n",
       "    53         1        288.0    288.0     99.3  \ttheta_f  = fsolve(lambda theta: Br_manual(Lf,theta)-B,0.00001)\n",
       "    54         1          2.0      2.0      0.7  \ttheta_f = theta_f[0]"
      ]
     },
     "metadata": {},
     "output_type": "display_data"
    }
   ],
   "source": [
    "%lprun -f set_theta_f_manual set_theta_f_manual()"
   ]
  },
  {
   "cell_type": "markdown",
   "metadata": {},
   "source": [
    "**I think *set_theta_f* could not be optimize. It's just solving an equation with *x* parameters, in that sense only depends on *fsolve* computation time.**"
   ]
  },
  {
   "cell_type": "code",
   "execution_count": 24,
   "metadata": {},
   "outputs": [
    {
     "name": "stdout",
     "output_type": "stream",
     "text": [
      "def set_theta_f_manual():\n",
      "\ttheta_f  = fsolve(lambda theta: Br_manual(Lf,theta)-B,0.00001)\n",
      "\ttheta_f = theta_f[0]\n",
      "\n"
     ]
    }
   ],
   "source": [
    "print(inspect.getsource(set_theta_f_manual))"
   ]
  },
  {
   "cell_type": "code",
   "execution_count": 25,
   "metadata": {},
   "outputs": [
    {
     "name": "stdout",
     "output_type": "stream",
     "text": [
      "def Br_manual(Lmax,theta):\n",
      "\tt = -1.*gam_neg/(NN+0.)\n",
      "\tu = theta/(2.*NN)\n",
      "\tr = rho/(2.*NN)\n",
      "\treturn np.exp(-4*u*Lmax/(2*Lmax*r+t))\n",
      "\n"
     ]
    }
   ],
   "source": [
    "print(inspect.getsource(Br_manual))"
   ]
  },
  {
   "cell_type": "code",
   "execution_count": 26,
   "metadata": {},
   "outputs": [
    {
     "name": "stdout",
     "output_type": "stream",
     "text": [
      "def alx_manual(gammaL,gammaH,pposL,pposH):\n",
      "\tret = []\n",
      "\n",
      "\t#Fixation\n",
      "\tfN = B*fixNeut_manual()\n",
      "\tfNeg = B*fixNegB_manual(0.5*pposH+0.5*pposL)\n",
      "\tfPosL = fixPosSim_manual(gammaL,0.5*pposL)\n",
      "\tfPosH = fixPosSim_manual(gammaH,0.5*pposH)\n",
      "\n",
      "\t#Pol\n",
      "\tneut = cumuSfs_manual(DiscSFSNeutDown_manual())\n",
      "\tselH = cumuSfs_manual(DiscSFSSelPosDown_manual(gammaH,pposH))\n",
      "\tselL = cumuSfs_manual(DiscSFSSelPosDown_manual(gammaL,pposL))\n",
      "\tselN = cumuSfs_manual(DiscSFSSelNegDown_manual(pposH+pposL))\n",
      "\t\n",
      "\tsel = []\n",
      "\tfor i in range(0,len(selH)):\n",
      "\t\tsel.append((selH[i]+selL[i])+selN[i])\n",
      "\tfor i in range(0,nn-1):\n",
      "\t\tret.append(float(1. - (fN/(fPosL + fPosH+  fNeg+0.))* sel[i]/neut[i]))\n",
      "\treturn (ret,sel,neut,selH,selL,selN,fN,fNeg,fPosL,fPosH)\n",
      "\n"
     ]
    }
   ],
   "source": [
    "print(inspect.getsource(alx_manual))"
   ]
  },
  {
   "cell_type": "code",
   "execution_count": 27,
   "metadata": {},
   "outputs": [
    {
     "data": {
      "text/plain": [
       "Timer unit: 1e-06 s\n",
       "\n",
       "Total time: 5.88841 s\n",
       "File: /home/jmurga/mktest/scripts/mkcalcManual.py\n",
       "Function: alx_manual at line 163\n",
       "\n",
       "Line #      Hits         Time  Per Hit   % Time  Line Contents\n",
       "==============================================================\n",
       "   163                                           def alx_manual(gammaL,gammaH,pposL,pposH):\n",
       "   164         1          1.0      1.0      0.0  \tret = []\n",
       "   165                                           \n",
       "   166                                           \t#Fixation\n",
       "   167         1          3.0      3.0      0.0  \tfN = B*fixNeut_manual()\n",
       "   168         1       5783.0   5783.0      0.1  \tfNeg = B*fixNegB_manual(0.5*pposH+0.5*pposL)\n",
       "   169         1        305.0    305.0      0.0  \tfPosL = fixPosSim_manual(gammaL,0.5*pposL)\n",
       "   170         1       9808.0   9808.0      0.2  \tfPosH = fixPosSim_manual(gammaH,0.5*pposH)\n",
       "   171                                           \n",
       "   172                                           \t#Pol\n",
       "   173         1     272688.0 272688.0      4.6  \tneut = cumuSfs_manual(DiscSFSNeutDown_manual())\n",
       "   174         1     485301.0 485301.0      8.2  \tselH = cumuSfs_manual(DiscSFSSelPosDown_manual(gammaH,pposH))\n",
       "   175         1     536762.0 536762.0      9.1  \tselL = cumuSfs_manual(DiscSFSSelPosDown_manual(gammaL,pposL))\n",
       "   176         1    4480953.0 4480953.0     76.1  \tselN = cumuSfs_manual(DiscSFSSelNegDown_manual(pposH+pposL))\n",
       "   177                                           \t\n",
       "   178         1          3.0      3.0      0.0  \tsel = []\n",
       "   179       501        715.0      1.4      0.0  \tfor i in range(0,len(selH)):\n",
       "   180       500      26517.0     53.0      0.5  \t\tsel.append((selH[i]+selL[i])+selN[i])\n",
       "   181       500        789.0      1.6      0.0  \tfor i in range(0,nn-1):\n",
       "   182       499      68782.0    137.8      1.2  \t\tret.append(float(1. - (fN/(fPosL + fPosH+  fNeg+0.))* sel[i]/neut[i]))\n",
       "   183         1          1.0      1.0      0.0  \treturn (ret,sel,neut,selH,selL,selN,fN,fNeg,fPosL,fPosH)"
      ]
     },
     "metadata": {},
     "output_type": "display_data"
    }
   ],
   "source": [
    "%lprun -f alx_manual alx_manual(gL,gH,pposL,pposH)"
   ]
  },
  {
   "cell_type": "code",
   "execution_count": 28,
   "metadata": {},
   "outputs": [
    {
     "name": "stdout",
     "output_type": "stream",
     "text": [
      "143 ns ± 0.555 ns per loop (mean ± std. dev. of 7 runs, 10000000 loops each)\n",
      "935 µs ± 29.3 µs per loop (mean ± std. dev. of 7 runs, 1000 loops each)\n",
      "81.3 µs ± 1.62 µs per loop (mean ± std. dev. of 7 runs, 10000 loops each)\n",
      "1.57 ms ± 20.6 µs per loop (mean ± std. dev. of 7 runs, 1000 loops each)\n",
      "237 ms ± 1.81 ms per loop (mean ± std. dev. of 7 runs, 10 loops each)\n",
      "277 ms ± 5.9 ms per loop (mean ± std. dev. of 7 runs, 1 loop each)\n",
      "284 ms ± 12.9 ms per loop (mean ± std. dev. of 7 runs, 1 loop each)\n",
      "1.16 s ± 10.9 ms per loop (mean ± std. dev. of 7 runs, 1 loop each)\n"
     ]
    }
   ],
   "source": [
    "%timeit fN2 = B*fixNeut_manual()\n",
    "%timeit fNeg2 = B*fixNegB_manual(0.5*pposH+0.5*pposL)\n",
    "%timeit fPosL2 = fixPosSim_manual(gL,0.5*pposL)\n",
    "%timeit fPosH2 = fixPosSim_manual(gH,0.5*pposH)\n",
    "%timeit neut2 = cumuSfs_manual(DiscSFSNeutDown_manual())\n",
    "%timeit selH2 = cumuSfs_manual(DiscSFSSelPosDown_manual(gH,pposH))\n",
    "%timeit selL2 = cumuSfs_manual(DiscSFSSelPosDown_manual(gL,pposL))\n",
    "%timeit selN2 = cumuSfs_manual(DiscSFSSelNegDown_manual(pposH+pposL))"
   ]
  },
  {
   "cell_type": "code",
   "execution_count": 29,
   "metadata": {},
   "outputs": [
    {
     "name": "stdout",
     "output_type": "stream",
     "text": [
      "def DiscSFSSelNegDown_manual(ppos):\n",
      "\t\treturn B*(theta_mid_neutral)*0.745*(np.dot(binomOp_manual(),DiscSFSSelNeg_manual(ppos)))[1:-1]\n",
      "\n"
     ]
    }
   ],
   "source": [
    "print(inspect.getsource(DiscSFSSelNegDown_manual))"
   ]
  },
  {
   "cell_type": "code",
   "execution_count": 30,
   "metadata": {},
   "outputs": [
    {
     "name": "stdout",
     "output_type": "stream",
     "text": [
      "def DiscSFSSelNeg_manual(ppos):\n",
      "\tNN2 = int(round(NN*B))\n",
      "\tdFunc = np.vectorize(FullNeg_manual)\n",
      "\treturn np.multiply(1./(NN2+0.),dFunc(ppos,[i/(NN2+0.) for i in range(0,NN2+1)]))\n",
      "\n"
     ]
    }
   ],
   "source": [
    "print(inspect.getsource(DiscSFSSelNeg_manual))"
   ]
  },
  {
   "cell_type": "code",
   "execution_count": 31,
   "metadata": {},
   "outputs": [
    {
     "name": "stdout",
     "output_type": "stream",
     "text": [
      "def FullNeg_manual( ppos, x):\n",
      "\tbeta = be/(1.*B)\n",
      "\tif x > 0 and x < 1.:\n",
      "\t\treturn (1.-ppos)*(2.**-al)*(beta**al)*(-mpmath.zeta(al,x+beta/2.) + mpmath.zeta(al,(2+beta)/2.))/((-1.+x)*x)\n",
      "\n",
      "\treturn 0.\n",
      "\n"
     ]
    }
   ],
   "source": [
    "print(inspect.getsource(FullNeg_manual))"
   ]
  },
  {
   "cell_type": "markdown",
   "metadata": {},
   "source": [
    "Although it is vectorice each computation solving *selN* on negative gamma distribution is quite slow. The execution over the total array is about a second, and only one iteration is about 1ms"
   ]
  },
  {
   "cell_type": "code",
   "execution_count": 3,
   "metadata": {},
   "outputs": [
    {
     "name": "stdout",
     "output_type": "stream",
     "text": [
      "1.17 s ± 6.32 ms per loop (mean ± std. dev. of 7 runs, 1 loop each)\n"
     ]
    }
   ],
   "source": [
    "%timeit DiscSFSSelNegDown_manual(pposH+pposL)"
   ]
  },
  {
   "cell_type": "code",
   "execution_count": 5,
   "metadata": {},
   "outputs": [],
   "source": [
    "NN2 = int(round(NN*B))\n",
    "dFuncVector = np.vectorize(FullNeg_manual)"
   ]
  },
  {
   "cell_type": "code",
   "execution_count": 6,
   "metadata": {},
   "outputs": [
    {
     "name": "stdout",
     "output_type": "stream",
     "text": [
      "1.02 s ± 25.9 ms per loop (mean ± std. dev. of 7 runs, 1 loop each)\n"
     ]
    }
   ],
   "source": [
    "%timeit y = dFuncVector(pposH+pposL,[i/(NN2+0.) for i in range(0,NN2+1)])"
   ]
  },
  {
   "cell_type": "markdown",
   "metadata": {},
   "source": [
    "Checking one iteration time"
   ]
  },
  {
   "cell_type": "code",
   "execution_count": 20,
   "metadata": {},
   "outputs": [],
   "source": [
    "x = [i/(NN2+0.) for i in range(0,NN2+1)]"
   ]
  },
  {
   "cell_type": "code",
   "execution_count": 22,
   "metadata": {},
   "outputs": [
    {
     "name": "stdout",
     "output_type": "stream",
     "text": [
      "1.23 ms ± 44.8 µs per loop (mean ± std. dev. of 7 runs, 1000 loops each)\n"
     ]
    }
   ],
   "source": [
    "%timeit  b = FullNeg_manual(pposH+pposL,x[1])"
   ]
  },
  {
   "cell_type": "markdown",
   "metadata": {},
   "source": [
    "### Solving *selN* with Julia"
   ]
  },
  {
   "cell_type": "code",
   "execution_count": 41,
   "metadata": {},
   "outputs": [],
   "source": [
    "from adapter_dev import mkcalc_dev # Including scripts solving equations with Julia\n",
    "from adapter import mkcalc"
   ]
  },
  {
   "cell_type": "code",
   "execution_count": 42,
   "metadata": {},
   "outputs": [],
   "source": [
    "adap = mkcalc.AsympMK(B=0.999,gam_neg=-83,theta_f=0.001,alLow=0.2,alTot=0.2,neut_mid=False,L_mid=501,Lf=10**6,N=500,nsim=2500,pref=\"unc\",gL=10,n=250,gH=500)\n",
    "adap.set_theta_f()\n",
    "theta_f = adap.theta_f\n",
    "adap.setPpos()\n",
    "adap.theta_f = theta_f\n",
    "adap.B = 0.999"
   ]
  },
  {
   "cell_type": "code",
   "execution_count": 43,
   "metadata": {},
   "outputs": [],
   "source": [
    "adap_dev = mkcalc_dev.AsympMK(B=0.999,gam_neg=-83,theta_f=0.001,alLow=0.2,alTot=0.2,neut_mid=False,L_mid=501,Lf=10**6,N=500,nsim=2500,pref=\"unc\",gL=10,n=250,gH=500)\n",
    "adap_dev.set_theta_f()\n",
    "theta_f = adap_dev.theta_f\n",
    "adap_dev.setPpos()\n",
    "adap_dev.theta_f = theta_f\n",
    "adap_dev.B = 0.999"
   ]
  },
  {
   "cell_type": "code",
   "execution_count": 44,
   "metadata": {},
   "outputs": [
    {
     "name": "stdout",
     "output_type": "stream",
     "text": [
      "1.13 s ± 8.18 ms per loop (mean ± std. dev. of 7 runs, 1 loop each)\n"
     ]
    }
   ],
   "source": [
    "%timeit adap.DiscSFSSelNegDown(adap.pposH+adap.pposL)"
   ]
  },
  {
   "cell_type": "code",
   "execution_count": 40,
   "metadata": {},
   "outputs": [
    {
     "name": "stdout",
     "output_type": "stream",
     "text": [
      "238 ms ± 8.59 ms per loop (mean ± std. dev. of 7 runs, 1 loop each)\n"
     ]
    }
   ],
   "source": [
    "%timeit adap_dev.DiscSFSSelNegDown(adap_dev.pposH+adap_dev.pposL)"
   ]
  }
 ],
 "metadata": {
  "kernelspec": {
   "display_name": "Python 3",
   "language": "python",
   "name": "python3"
  },
  "language_info": {
   "codemirror_mode": {
    "name": "ipython",
    "version": 3
   },
   "file_extension": ".py",
   "mimetype": "text/x-python",
   "name": "python",
   "nbconvert_exporter": "python",
   "pygments_lexer": "ipython3",
   "version": "3.8.1"
  }
 },
 "nbformat": 4,
 "nbformat_minor": 4
}
